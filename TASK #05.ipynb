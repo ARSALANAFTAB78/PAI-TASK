{
 "cells": [
  {
   "cell_type": "code",
   "execution_count": null,
   "id": "c15338f0",
   "metadata": {},
   "outputs": [],
   "source": [
    "import cv2\n",
    "import numpy as np\n",
    "import matplotlib.pyplot as plt"
   ]
  },
  {
   "cell_type": "code",
   "execution_count": null,
   "id": "d2e66821",
   "metadata": {},
   "outputs": [],
   "source": [
    "img = cv2.imread('sample.jpg')\n",
    "cv2.imshow('Image', img)\n",
    "cv2.waitKey(0)\n",
    "cv2.destroyAllWindows()\n",
    "cv2.imwrite('output.jpg', img)"
   ]
  },
  {
   "cell_type": "code",
   "execution_count": null,
   "id": "8f89036c",
   "metadata": {},
   "outputs": [],
   "source": [
    "cap = cv2.VideoCapture(0)\n",
    "fourcc = cv2.VideoWriter_fourcc(*'XVID')\n",
    "out = cv2.VideoWriter('output.avi', fourcc, 20.0, (640, 480))\n",
    "while cap.isOpened():\n",
    "    ret, frame = cap.read()\n",
    "    if ret:\n",
    "        out.write(frame)\n",
    "        cv2.imshow('Frame', frame)\n",
    "        if cv2.waitKey(1) & 0xFF == ord('q'):\n",
    "            break\n",
    "    else:\n",
    "        break\n",
    "cap.release()\n",
    "out.release()\n",
    "cv2.destroyAllWindows()"
   ]
  },
  {
   "cell_type": "code",
   "execution_count": null,
   "id": "20738488",
   "metadata": {},
   "outputs": [],
   "source": [
    "img = np.zeros((512,512,3), np.uint8)\n",
    "cv2.line(img, (0,0), (511,511), (255,0,0), 5)\n",
    "cv2.rectangle(img, (384,0), (510,128), (0,255,0), 3)\n",
    "cv2.circle(img, (447,63), 63, (0,0,255), -1)\n",
    "cv2.putText(img, 'OpenCV', (10,500), cv2.FONT_HERSHEY_SIMPLEX, 2, (255,255,255), 2)\n",
    "cv2.imshow('Shapes', img)\n",
    "cv2.waitKey(0)\n",
    "cv2.destroyAllWindows()"
   ]
  },
  {
   "cell_type": "code",
   "execution_count": null,
   "id": "f4e5f9aa",
   "metadata": {},
   "outputs": [],
   "source": [
    "img = cv2.imread('sample.jpg')\n",
    "gray = cv2.cvtColor(img, cv2.COLOR_BGR2GRAY)\n",
    "hsv = cv2.cvtColor(img, cv2.COLOR_BGR2HSV)\n",
    "cv2.imshow('Gray', gray)\n",
    "cv2.imshow('HSV', hsv)\n",
    "cv2.waitKey(0)\n",
    "cv2.destroyAllWindows()"
   ]
  },
  {
   "cell_type": "code",
   "execution_count": null,
   "id": "9fa2b8b8",
   "metadata": {},
   "outputs": [],
   "source": [
    "img = cv2.imread('sample.jpg')\n",
    "rows, cols = img.shape[:2]\n",
    "M = np.float32([[1, 0, 100], [0, 1, 50]])\n",
    "dst = cv2.warpAffine(img, M, (cols, rows))\n",
    "cv2.imshow('Translated Image', dst)\n",
    "cv2.waitKey(0)\n",
    "cv2.destroyAllWindows()"
   ]
  },
  {
   "cell_type": "code",
   "execution_count": null,
   "id": "aea1e66f",
   "metadata": {},
   "outputs": [],
   "source": [
    "img = cv2.imread('sample.jpg', 0)\n",
    "ret, thresh1 = cv2.threshold(img, 127, 255, cv2.THRESH_BINARY)\n",
    "cv2.imshow('Threshold', thresh1)\n",
    "cv2.waitKey(0)\n",
    "cv2.destroyAllWindows()"
   ]
  },
  {
   "cell_type": "code",
   "execution_count": null,
   "id": "aef4eee3",
   "metadata": {},
   "outputs": [],
   "source": [
    "img = cv2.imread('sample.jpg')\n",
    "blur = cv2.GaussianBlur(img, (5,5), 0)\n",
    "cv2.imshow('Blurred Image', blur)\n",
    "cv2.waitKey(0)\n",
    "cv2.destroyAllWindows()"
   ]
  },
  {
   "cell_type": "code",
   "execution_count": null,
   "id": "dbd83efb",
   "metadata": {},
   "outputs": [],
   "source": [
    "img = cv2.imread('sample.jpg', 0)\n",
    "_, mask = cv2.threshold(img, 200, 255, cv2.THRESH_BINARY)\n",
    "kernel = np.ones((5,5), np.uint8)\n",
    "dilation = cv2.dilate(mask, kernel, iterations=1)\n",
    "cv2.imshow('Dilation', dilation)\n",
    "cv2.waitKey(0)\n",
    "cv2.destroyAllWindows()"
   ]
  },
  {
   "cell_type": "code",
   "execution_count": null,
   "id": "2369b6db",
   "metadata": {},
   "outputs": [],
   "source": [
    "img = cv2.imread('sample.jpg', 0)\n",
    "edges = cv2.Canny(img, 100, 200)\n",
    "cv2.imshow('Edges', edges)\n",
    "cv2.waitKey(0)\n",
    "cv2.destroyAllWindows()"
   ]
  },
  {
   "cell_type": "code",
   "execution_count": null,
   "id": "ac7766b5",
   "metadata": {},
   "outputs": [],
   "source": [
    "img = cv2.imread('sample.jpg', 0)\n",
    "laplacian = cv2.Laplacian(img, cv2.CV_64F)\n",
    "sobelx = cv2.Sobel(img, cv2.CV_64F, 1, 0, ksize=5)\n",
    "sobely = cv2.Sobel(img, cv2.CV_64F, 0, 1, ksize=5)\n",
    "cv2.imshow('Laplacian', laplacian)\n",
    "cv2.imshow('Sobel X', sobelx)\n",
    "cv2.imshow('Sobel Y', sobely)\n",
    "cv2.waitKey(0)\n",
    "cv2.destroyAllWindows()"
   ]
  },
  {
   "cell_type": "code",
   "execution_count": null,
   "id": "8ebb8c65",
   "metadata": {},
   "outputs": [],
   "source": [
    "img = cv2.imread('sample.jpg')\n",
    "gray = cv2.cvtColor(img, cv2.COLOR_BGR2GRAY)\n",
    "ret, thresh = cv2.threshold(gray, 127, 255, 0)\n",
    "contours, _ = cv2.findContours(thresh, cv2.RETR_TREE, cv2.CHAIN_APPROX_SIMPLE)\n",
    "cv2.drawContours(img, contours, -1, (0,255,0), 3)\n",
    "cv2.imshow('Contours', img)\n",
    "cv2.waitKey(0)\n",
    "cv2.destroyAllWindows()"
   ]
  }
 ],
 "metadata": {},
 "nbformat": 4,
 "nbformat_minor": 5
}